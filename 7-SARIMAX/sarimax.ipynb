{
 "cells": [
  {
   "cell_type": "markdown",
   "metadata": {},
   "source": [
    "# SARIMAX on drug sales data\n",
    "<br> </br>\n",
    "Source : https://www.machinelearningplus.com/time-series/arima-model-time-series-forecasting-python/ step 15"
   ]
  },
  {
   "cell_type": "markdown",
   "metadata": {},
   "source": [
    "```\n",
    "Why SARIMAX ?\n",
    "because im kiasu like that\n",
    "```\n",
    "\n",
    "```\n",
    "Steps :\n",
    "1)\n",
    "```"
   ]
  },
  {
   "cell_type": "code",
   "execution_count": null,
   "metadata": {},
   "outputs": [],
   "source": []
  }
 ],
 "metadata": {
  "kernelspec": {
   "display_name": "Python 3.6.10 64-bit ('ts-py36': conda)",
   "language": "python",
   "name": "python361064bittspy36conda7e9dccba792944cba2fde84a939e050a"
  },
  "language_info": {
   "codemirror_mode": {
    "name": "ipython",
    "version": 3
   },
   "file_extension": ".py",
   "mimetype": "text/x-python",
   "name": "python",
   "nbconvert_exporter": "python",
   "pygments_lexer": "ipython3",
   "version": "3.6.10"
  }
 },
 "nbformat": 4,
 "nbformat_minor": 4
}
